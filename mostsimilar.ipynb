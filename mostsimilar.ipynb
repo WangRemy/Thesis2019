{
 "cells": [
  {
   "cell_type": "code",
   "execution_count": 35,
   "metadata": {},
   "outputs": [
    {
     "data": {
      "text/plain": [
       "[('volleybal', 0.7672346830368042),\n",
       " ('basketbal', 0.7663652896881104),\n",
       " ('wielrennen', 0.7606110572814941),\n",
       " ('ijshockey', 0.7555171251296997),\n",
       " ('hockey', 0.7533028721809387),\n",
       " ('honkbal', 0.751084566116333),\n",
       " ('rolstoelrugby', 0.7409276962280273),\n",
       " ('subbuteo', 0.7203429937362671),\n",
       " ('vrouwenvoetbal', 0.7140643000602722),\n",
       " ('marathonschaatsen', 0.7114318013191223)]"
      ]
     },
     "execution_count": 35,
     "metadata": {},
     "output_type": "execute_result"
    }
   ],
   "source": [
    "\n",
    "# Gensim\n",
    "from gensim.models import Word2Vec\n",
    "\n",
    "model = gensim.models.KeyedVectors.load_word2vec_format(\"/Users/remywang/Downloads/160/sonar-160.txt\", binary=False)\n",
    "katvec = model['voetbal']\n",
    "model.most_similar('voetbal')"
   ]
  }
 ],
 "metadata": {
  "kernelspec": {
   "display_name": "Python 3",
   "language": "python",
   "name": "python3"
  },
  "language_info": {
   "codemirror_mode": {
    "name": "ipython",
    "version": 3
   },
   "file_extension": ".py",
   "mimetype": "text/x-python",
   "name": "python",
   "nbconvert_exporter": "python",
   "pygments_lexer": "ipython3",
   "version": "3.6.2"
  }
 },
 "nbformat": 4,
 "nbformat_minor": 2
}

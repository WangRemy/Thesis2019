{
 "cells": [
  {
   "cell_type": "code",
   "execution_count": 1,
   "metadata": {},
   "outputs": [
    {
     "name": "stderr",
     "output_type": "stream",
     "text": [
      "Using TensorFlow backend.\n"
     ]
    }
   ],
   "source": [
    "#LOADING DATASET\n",
    "\n",
    "from keras.utils import *\n",
    "from sklearn import preprocessing\n",
    "from sklearn.preprocessing import LabelEncoder\n",
    "\n",
    "\n",
    "from numpy import array\n",
    "from numpy import argmax\n",
    "import pandas as pd\n",
    "\n",
    "\n",
    "import matplotlib.pyplot as plt\n",
    "plt.style.use('ggplot')\n",
    "\n",
    "def plot_history(history):\n",
    "    acc = history.history['acc']\n",
    "    val_acc = history.history['val_acc']\n",
    "    loss = history.history['loss']\n",
    "    val_loss = history.history['val_loss']\n",
    "    x = range(1, len(acc) + 1)\n",
    "\n",
    "    plt.figure(figsize=(12, 5))\n",
    "    plt.subplot(1, 2, 1)\n",
    "    plt.plot(x, acc, 'b', label='Training acc')\n",
    "    plt.plot(x, val_acc, 'r', label='Validation acc')\n",
    "    plt.title('Training and validation accuracy')\n",
    "    plt.legend()\n",
    "    plt.subplot(1, 2, 2)\n",
    "    plt.plot(x, loss, 'b', label='Training loss')\n",
    "    plt.plot(x, val_loss, 'r', label='Validation loss')\n",
    "    plt.title('Training and validation loss')\n",
    "    plt.legend()"
   ]
  },
  {
   "cell_type": "code",
   "execution_count": 2,
   "metadata": {},
   "outputs": [],
   "source": [
    "def readfile(filename):\n",
    "    f = open(filename)\n",
    "    sentences = []\n",
    "    sentence = []\n",
    "    for line in f:\n",
    "        if len(line) == 0 or line.startswith('-DOCSTART') or line[0] == \"\\n\":\n",
    "            if len(sentence) > 0:\n",
    "                sentences.append(sentence)\n",
    "                sentence = []\n",
    "            continue\n",
    "        splits = line.split(' ')\n",
    "        sentence.append(splits[0].lower())\n",
    "\n",
    "    if len(sentence) > 0:\n",
    "        sentences.append(sentence)\n",
    "        sentence = []\n",
    "    return sentences\n",
    "\n",
    "def readfile1(filename):\n",
    "    f = open(filename)\n",
    "\n",
    "    sentences = []\n",
    "    sentence = []\n",
    "    for line in f:\n",
    "        if len(line) == 0 or line.startswith('-DOCSTART') or line[0] == \"\\n\":\n",
    "            if len(sentence) > 0:\n",
    "                sentences.append(sentence)\n",
    "                sentence = []\n",
    "            continue\n",
    "        splits = line.split(' ')\n",
    "        sentence.append(splits[-1].rstrip())\n",
    "\n",
    "    if len(sentence) > 0:\n",
    "        sentences.append(sentence)\n",
    "        sentence = []\n",
    "\n",
    "    return (sentences)"
   ]
  },
  {
   "cell_type": "code",
   "execution_count": 3,
   "metadata": {},
   "outputs": [],
   "source": [
    "import os\n",
    "import sys\n",
    "import numpy as np\n",
    "from keras.preprocessing.text import Tokenizer\n",
    "from keras.preprocessing.sequence import pad_sequences\n",
    "from keras.utils import to_categorical\n",
    "from keras.layers import Dense, Input\n",
    "from keras.layers import LSTM, Embedding, TimeDistributed, Masking, Dropout\n",
    "from keras.models import Model\n",
    "from keras.initializers import Constant\n",
    "from sklearn.metrics import classification_report\n",
    "from keras.layers import Bidirectional\n"
   ]
  },
  {
   "cell_type": "code",
   "execution_count": 4,
   "metadata": {},
   "outputs": [],
   "source": [
    "BASE_DIR = ''\n",
    "MAX_SEQUENCE_LENGTH = 40\n",
    "MAX_NUM_WORDS = 30000\n",
    "EMBEDDING_DIM = 160\n",
    "VALIDATION_SPLIT = 0.2\n",
    "\n",
    "#EPOCHS = 30               # paper: 80\n",
    "#DROPOUT = 0.5             # paper: 0.68\n",
    "#DROPOUT_RECURRENT = 0.25  # not specified in paper, 0.25 recommended\n",
    "#LSTM_STATE_SIZE = 200     # paper: 275\n",
    "#CONV_SIZE = 3             # paper: 3\n",
    "#LEARNING_RATE = 0.0105    # paper 0.0105      # paper uses SGD(lr=self.learning_rate), Nadam() recommended"
   ]
  },
  {
   "cell_type": "code",
   "execution_count": 5,
   "metadata": {},
   "outputs": [
    {
     "name": "stdout",
     "output_type": "stream",
     "text": [
      "Indexing word vectors.\n",
      "Found 626711 word vectors.\n"
     ]
    }
   ],
   "source": [
    "print('Indexing word vectors.')\n",
    "\n",
    "embeddings_index = {}\n",
    "with open('/Users/remywang/Documents/scriptie/Data/160/sonar-160.txt') as f:\n",
    "    for line in f:\n",
    "        values = line.split()\n",
    "        word = values[0]\n",
    "        coefs = np.asarray(values[1:], dtype='float32')\n",
    "        embeddings_index[word] = coefs\n",
    "\n",
    "print('Found %s word vectors.' % len(embeddings_index))"
   ]
  },
  {
   "cell_type": "code",
   "execution_count": 6,
   "metadata": {},
   "outputs": [
    {
     "name": "stdout",
     "output_type": "stream",
     "text": [
      "Processing text dataset\n",
      "Found 15806 texts.\n"
     ]
    }
   ],
   "source": [
    "print('Processing text dataset')\n",
    "\n",
    "trainsentences = readfile('/Users/remywang/Documents/scriptie/Data/ned.train2')\n",
    "trainlabels = readfile1('/Users/remywang/Documents/scriptie/Data/ned.train2')\n",
    "\n",
    "print('Found %s texts.' % len(trainsentences))"
   ]
  },
  {
   "cell_type": "code",
   "execution_count": 36,
   "metadata": {},
   "outputs": [
    {
     "name": "stdout",
     "output_type": "stream",
     "text": [
      "['B-ORG', 'I-ORG', 'O', 'O', 'O', 'O', 'O', 'B-MISC', 'O', 'O', 'O']\n",
      "[1. 7. 0. 0. 0. 0. 0. 2. 0. 0. 0. 9. 9. 9. 9. 9. 9. 9. 9. 9. 9. 9. 9. 9.\n",
      " 9. 9. 9. 9. 9. 9. 9. 9. 9. 9. 9. 9. 9. 9. 9. 9.]\n"
     ]
    }
   ],
   "source": [
    "label_idx = {}\n",
    "label_idx['padding'] = 9\n",
    "cur_idx = 0\n",
    "for sentence in trainlabels:\n",
    "    for label in sentence:\n",
    "        if label not in label_idx:\n",
    "            label_idx[label] = cur_idx\n",
    "            cur_idx += 1\n",
    "            \n",
    "labels = np.ones((len(trainlabels), MAX_SEQUENCE_LENGTH)) * 9\n",
    "for indexs, sentence in enumerate(trainlabels):\n",
    "    label_sent = []\n",
    "    for index, label in enumerate(sentence[:MAX_SEQUENCE_LENGTH]):\n",
    "        labels[indexs, index] = label_idx[label]\n",
    "print(trainlabels[14])\n",
    "print(labels[14])"
   ]
  },
  {
   "cell_type": "code",
   "execution_count": 8,
   "metadata": {},
   "outputs": [
    {
     "name": "stdout",
     "output_type": "stream",
     "text": [
      "Found 26037 unique tokens.\n"
     ]
    }
   ],
   "source": [
    "# finally, vectorize the text samples into a 2D integer tensor\n",
    "tokenizer = Tokenizer(num_words=MAX_NUM_WORDS)\n",
    "tokenizer.fit_on_texts(trainsentences)\n",
    "sequences = tokenizer.texts_to_sequences(trainsentences)\n",
    "sequencesy = tokenizer.texts_to_sequences(trainsentences)\n",
    "\n",
    "word_index = tokenizer.word_index\n",
    "print('Found %s unique tokens.' % len(word_index))"
   ]
  },
  {
   "cell_type": "code",
   "execution_count": 9,
   "metadata": {
    "scrolled": true
   },
   "outputs": [
    {
     "name": "stdout",
     "output_type": "stream",
     "text": [
      "Shape of data tensor: (15806, 40)\n",
      "Shape of label tensor: (15806, 40, 10)\n",
      "[    1  1369     4     5  3263    11    38    21 10900  1022    23     5\n",
      "  3264    60  1023  2077    36     6 10901     9  1177 10902     2     0\n",
      "     0     0     0     0     0     0     0     0     0     0     0     0\n",
      "     0     0     0     0]\n"
     ]
    }
   ],
   "source": [
    "pad_id=0\n",
    "data = pad_sequences(sequences, maxlen=MAX_SEQUENCE_LENGTH, padding='post', value = pad_id)\n",
    "\n",
    "labels = to_categorical(np.asarray(labels))\n",
    "\n",
    "\n",
    "print('Shape of data tensor:', data.shape)\n",
    "print('Shape of label tensor:', labels.shape)\n",
    "\n",
    "print(data[0])\n"
   ]
  },
  {
   "cell_type": "code",
   "execution_count": 10,
   "metadata": {},
   "outputs": [],
   "source": [
    "# split the data into a training set and a validation set\n",
    "indices = np.arange(data.shape[0])\n",
    "np.random.shuffle(indices)\n",
    "data = data[indices]\n",
    "labels = labels[indices]\n",
    "num_validation_samples = int(VALIDATION_SPLIT * data.shape[0])\n",
    "\n",
    "x_train = data[:-num_validation_samples]\n",
    "y_train = labels[:-num_validation_samples]\n",
    "x_val = data[-num_validation_samples:]\n",
    "y_val = labels[-num_validation_samples:]\n",
    "\n",
    "#y_train[0]"
   ]
  },
  {
   "cell_type": "code",
   "execution_count": 11,
   "metadata": {},
   "outputs": [
    {
     "name": "stdout",
     "output_type": "stream",
     "text": [
      "Preparing embedding matrix.\n"
     ]
    }
   ],
   "source": [
    "print('Preparing embedding matrix.')\n",
    "\n",
    "num_words = min(MAX_NUM_WORDS, len(word_index)) + 1\n",
    "embedding_matrix = np.zeros((num_words, EMBEDDING_DIM))\n",
    "for word, i in word_index.items():\n",
    "    if i > MAX_NUM_WORDS:\n",
    "        continue\n",
    "    embedding_vector = embeddings_index.get(word)\n",
    "    if embedding_vector is not None:\n",
    "        embedding_matrix[i] = embedding_vector"
   ]
  },
  {
   "cell_type": "code",
   "execution_count": 12,
   "metadata": {},
   "outputs": [],
   "source": [
    "embedding_layer = Embedding(num_words,\n",
    "                            EMBEDDING_DIM,\n",
    "                            embeddings_initializer=Constant(embedding_matrix),\n",
    "                            input_length=MAX_SEQUENCE_LENGTH,\n",
    "                            trainable=True,\n",
    "                            mask_zero=False)"
   ]
  },
  {
   "cell_type": "code",
   "execution_count": 13,
   "metadata": {},
   "outputs": [],
   "source": [
    "from keras.layers import Bidirectional"
   ]
  },
  {
   "cell_type": "code",
   "execution_count": 14,
   "metadata": {},
   "outputs": [
    {
     "name": "stdout",
     "output_type": "stream",
     "text": [
      "WARNING:tensorflow:From /Library/Frameworks/Python.framework/Versions/3.6/lib/python3.6/site-packages/tensorflow/python/framework/op_def_library.py:263: colocate_with (from tensorflow.python.framework.ops) is deprecated and will be removed in a future version.\n",
      "Instructions for updating:\n",
      "Colocations handled automatically by placer.\n",
      "_________________________________________________________________\n",
      "Layer (type)                 Output Shape              Param #   \n",
      "=================================================================\n",
      "input (InputLayer)           (None, 40)                0         \n",
      "_________________________________________________________________\n",
      "embedding_1 (Embedding)      (None, 40, 160)           4166080   \n",
      "_________________________________________________________________\n",
      "bidirectional_1 (Bidirection (None, 40, 128)           115200    \n",
      "_________________________________________________________________\n",
      "bidirectional_2 (Bidirection (None, 40, 128)           98816     \n",
      "_________________________________________________________________\n",
      "Softmax_layer (TimeDistribut (None, 40, 10)            1290      \n",
      "=================================================================\n",
      "Total params: 4,381,386\n",
      "Trainable params: 4,381,386\n",
      "Non-trainable params: 0\n",
      "_________________________________________________________________\n"
     ]
    }
   ],
   "source": [
    "input_= Input(shape=(MAX_SEQUENCE_LENGTH,), name='input')\n",
    "sequence_embedding = embedding_layer(input_)\n",
    "lstm1 = Bidirectional(LSTM(64, return_sequences=True, name='lstml'))(sequence_embedding)\n",
    "lstm2 = Bidirectional(LSTM(64, return_sequences=True, name='lstm2'))(lstm1)\n",
    "output = TimeDistributed(Dense(labels.shape[2], activation='softmax'),name=\"Softmax_layer\")(lstm2)\n",
    "\n",
    "model = Model(inputs=input_, outputs=output)\n",
    "\n",
    "model.compile(loss='categorical_crossentropy',\n",
    "              optimizer='Nadam',\n",
    "              metrics=['acc'])\n",
    "\n",
    "model.summary()"
   ]
  },
  {
   "cell_type": "code",
   "execution_count": 15,
   "metadata": {
    "scrolled": true
   },
   "outputs": [
    {
     "name": "stdout",
     "output_type": "stream",
     "text": [
      "WARNING:tensorflow:From /Library/Frameworks/Python.framework/Versions/3.6/lib/python3.6/site-packages/tensorflow/python/ops/math_ops.py:3066: to_int32 (from tensorflow.python.ops.math_ops) is deprecated and will be removed in a future version.\n",
      "Instructions for updating:\n",
      "Use tf.cast instead.\n",
      "Train on 12645 samples, validate on 3161 samples\n",
      "Epoch 1/20\n",
      "12645/12645 [==============================] - 59s 5ms/step - loss: 0.1443 - acc: 0.9678 - val_loss: 0.0742 - val_acc: 0.9808\n",
      "Epoch 2/20\n",
      "12645/12645 [==============================] - 54s 4ms/step - loss: 0.0449 - acc: 0.9882 - val_loss: 0.0547 - val_acc: 0.9871\n",
      "Epoch 3/20\n",
      "12645/12645 [==============================] - 58s 5ms/step - loss: 0.0205 - acc: 0.9944 - val_loss: 0.0458 - val_acc: 0.9890\n",
      "Epoch 4/20\n",
      "12645/12645 [==============================] - 60s 5ms/step - loss: 0.0117 - acc: 0.9965 - val_loss: 0.0539 - val_acc: 0.9896\n",
      "Epoch 5/20\n",
      "12645/12645 [==============================] - 61s 5ms/step - loss: 0.0078 - acc: 0.9975 - val_loss: 0.0633 - val_acc: 0.9894\n",
      "Epoch 6/20\n",
      "12645/12645 [==============================] - 60s 5ms/step - loss: 0.0056 - acc: 0.9981 - val_loss: 0.0637 - val_acc: 0.9890\n",
      "Epoch 7/20\n",
      "12645/12645 [==============================] - 61s 5ms/step - loss: 0.0040 - acc: 0.9987 - val_loss: 0.0675 - val_acc: 0.9882\n",
      "Epoch 8/20\n",
      "12645/12645 [==============================] - 55s 4ms/step - loss: 0.0029 - acc: 0.9990 - val_loss: 0.0757 - val_acc: 0.9889\n",
      "Epoch 9/20\n",
      "12645/12645 [==============================] - 57s 5ms/step - loss: 0.0023 - acc: 0.9992 - val_loss: 0.0761 - val_acc: 0.9886\n",
      "Epoch 10/20\n",
      "12645/12645 [==============================] - 60s 5ms/step - loss: 0.0017 - acc: 0.9994 - val_loss: 0.0879 - val_acc: 0.9861\n",
      "Epoch 11/20\n",
      "12645/12645 [==============================] - 59s 5ms/step - loss: 0.0015 - acc: 0.9995 - val_loss: 0.0861 - val_acc: 0.9884\n",
      "Epoch 12/20\n",
      "12645/12645 [==============================] - 68s 5ms/step - loss: 0.0013 - acc: 0.9996 - val_loss: 0.0894 - val_acc: 0.9890\n",
      "Epoch 13/20\n",
      "12645/12645 [==============================] - 57s 4ms/step - loss: 0.0011 - acc: 0.9997 - val_loss: 0.0936 - val_acc: 0.9885\n",
      "Epoch 14/20\n",
      "12645/12645 [==============================] - 60s 5ms/step - loss: 7.2689e-04 - acc: 0.9998 - val_loss: 0.0955 - val_acc: 0.9885\n",
      "Epoch 15/20\n",
      "12645/12645 [==============================] - 59s 5ms/step - loss: 8.8825e-04 - acc: 0.9997 - val_loss: 0.0962 - val_acc: 0.9865\n",
      "Epoch 16/20\n",
      "12645/12645 [==============================] - 60s 5ms/step - loss: 0.0012 - acc: 0.9997 - val_loss: 0.0901 - val_acc: 0.9887\n",
      "Epoch 17/20\n",
      "12645/12645 [==============================] - 60s 5ms/step - loss: 8.6941e-04 - acc: 0.9997 - val_loss: 0.0965 - val_acc: 0.9883\n",
      "Epoch 18/20\n",
      "12645/12645 [==============================] - 60s 5ms/step - loss: 7.7043e-04 - acc: 0.9998 - val_loss: 0.0964 - val_acc: 0.9889\n",
      "Epoch 19/20\n",
      "12645/12645 [==============================] - 61s 5ms/step - loss: 5.8812e-04 - acc: 0.9998 - val_loss: 0.1023 - val_acc: 0.9886\n",
      "Epoch 20/20\n",
      "12645/12645 [==============================] - 61s 5ms/step - loss: 4.2660e-04 - acc: 0.9999 - val_loss: 0.1016 - val_acc: 0.9887\n"
     ]
    },
    {
     "data": {
      "image/png": "[encoded data removed]",
      "text/plain": [
       "<Figure size 864x360 with 2 Axes>"
      ]
     },
     "metadata": {
      "needs_background": "light"
     },
     "output_type": "display_data"
    }
   ],
   "source": [
    "history = model.fit(x_train, y_train, epochs=20, validation_data=(x_val, y_val))\n",
    "\n",
    "plot_history(history)\n"
   ]
  },
  {
   "cell_type": "code",
   "execution_count": 18,
   "metadata": {
    "scrolled": true
   },
   "outputs": [
    {
     "name": "stdout",
     "output_type": "stream",
     "text": [
      "              precision    recall  f1-score   support\n",
      "\n",
      "           0       0.97      0.99      0.98     35476\n",
      "           1       0.82      0.69      0.75       421\n",
      "           2       0.87      0.57      0.69       673\n",
      "           3       0.87      0.83      0.85       890\n",
      "           4       0.93      0.81      0.86       565\n",
      "           5       0.87      0.72      0.79       610\n",
      "           6       0.80      0.39      0.52       289\n",
      "           7       0.75      0.57      0.65       231\n",
      "           8       0.63      0.43      0.51        89\n",
      "           9       1.00      1.00      1.00     87196\n",
      "\n",
      "   micro avg       0.99      0.99      0.99    126440\n",
      "   macro avg       0.85      0.70      0.76    126440\n",
      "weighted avg       0.99      0.99      0.99    126440\n",
      "\n"
     ]
    }
   ],
   "source": [
    "\n",
    "predictions = model.predict(x_val)\n",
    "\n",
    "\n",
    "\n",
    "pred_labels = np.array([np.argmax(pred, axis=1) for pred in predictions]).flatten()\n",
    "true_labels = np.array([np.argmax(pred, axis=1) for pred in y_val]).flatten()\n",
    "\n",
    "\n",
    "print(classification_report(true_labels, pred_labels))\n",
    "\n"
   ]
  },
  {
   "cell_type": "code",
   "execution_count": 17,
   "metadata": {},
   "outputs": [],
   "source": [
    "from sklearn.metrics import f1_score\n"
   ]
  }
 ],
 "metadata": {
  "kernelspec": {
   "display_name": "Python 3",
   "language": "python",
   "name": "python3"
  },
  "language_info": {
   "codemirror_mode": {
    "name": "ipython",
    "version": 3
   },
   "file_extension": ".py",
   "mimetype": "text/x-python",
   "name": "python",
   "nbconvert_exporter": "python",
   "pygments_lexer": "ipython3",
   "version": "3.6.2"
  }
 },
 "nbformat": 4,
 "nbformat_minor": 2
}

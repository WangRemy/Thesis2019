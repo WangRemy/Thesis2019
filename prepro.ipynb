{
 "cells": [
  {
   "cell_type": "code",
   "execution_count": 3,
   "metadata": {},
   "outputs": [
    {
     "name": "stdout",
     "output_type": "stream",
     "text": [
      "<_io.TextIOWrapper name='alles.txt' mode='a' encoding='UTF-8'>\n"
     ]
    }
   ],
   "source": [
    "#PREPRO GOEDE\n",
    "\n",
    "import re\n",
    "\n",
    "splitted = open(\"testset.txt\",\"r\")\n",
    "\n",
    "\n",
    "for word in splitted:\n",
    "    if re.search(r'LOC', word)or re.search(r'PER', word)  or re.search(r'ORG', word) or re.search(r'MISC', word) :\n",
    "        with open('alles.txt', 'a') as the_file:\n",
    "            the_file.write(word)\n",
    "            \n",
    "print(the_file)            \n",
    "                "
   ]
  }
 ],
 "metadata": {
  "kernelspec": {
   "display_name": "Python 3",
   "language": "python",
   "name": "python3"
  },
  "language_info": {
   "codemirror_mode": {
    "name": "ipython",
    "version": 3
   },
   "file_extension": ".py",
   "mimetype": "text/x-python",
   "name": "python",
   "nbconvert_exporter": "python",
   "pygments_lexer": "ipython3",
   "version": "3.6.2"
  }
 },
 "nbformat": 4,
 "nbformat_minor": 2
}
